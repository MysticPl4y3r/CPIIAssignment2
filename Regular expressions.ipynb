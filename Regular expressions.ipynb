{
 "cells": [
  {
   "cell_type": "code",
   "execution_count": 43,
   "id": "c1f9f04f",
   "metadata": {},
   "outputs": [],
   "source": [
    "from re import findall,search,sub,split\n",
    "#Identify Questions\n",
    "def IsQuestion(string):\n",
    "    flag=0\n",
    "    qpattern={\"What\":\"^What\",\"Why\":\"^Why\",\"When\":\"^When\",\"How\":\"^How\",\"Where\":\"^Where\",\"General\":\"\\?$\"}\n",
    "\n",
    "    for i in qpattern:\n",
    "        if len(findall(qpattern[i],string))>0:\n",
    "            flag=1\n",
    "            qtype=i\n",
    "            break\n",
    "    if flag==1:\n",
    "        print(\"The given text is a question\")\n",
    "        print(\"It is of the type :\",qtype)\n",
    "    else:\n",
    "        print(\"The given text is not a question\")\n",
    "        \n",
    "text=\"Can you help me?\"\n",
    "text2=\"How can I help?\"\n",
    "text3=\"Please bring me coffee.\""
   ]
  },
  {
   "cell_type": "code",
   "execution_count": 44,
   "id": "d6aaf6b9",
   "metadata": {},
   "outputs": [
    {
     "name": "stdout",
     "output_type": "stream",
     "text": [
      "The given text is a question\n",
      "It is of the type : General\n"
     ]
    }
   ],
   "source": [
    "IsQuestion(text)"
   ]
  },
  {
   "cell_type": "code",
   "execution_count": 45,
   "id": "48f65bb1",
   "metadata": {},
   "outputs": [
    {
     "name": "stdout",
     "output_type": "stream",
     "text": [
      "The given text is a question\n",
      "It is of the type : How\n"
     ]
    }
   ],
   "source": [
    "IsQuestion(text2)"
   ]
  },
  {
   "cell_type": "code",
   "execution_count": 46,
   "id": "b9e82200",
   "metadata": {},
   "outputs": [
    {
     "name": "stdout",
     "output_type": "stream",
     "text": [
      "The given text is not a question\n"
     ]
    }
   ],
   "source": [
    "IsQuestion(text3)"
   ]
  },
  {
   "cell_type": "code",
   "execution_count": 55,
   "id": "21146efc",
   "metadata": {},
   "outputs": [
    {
     "name": "stdout",
     "output_type": "stream",
     "text": [
      "i have been in this place before\n"
     ]
    }
   ],
   "source": [
    "#Decoder\n",
    "s='O IQCT WTTF OF ZIOL HSQET WTYGKT'\n",
    "code={'a':'Q','b':'W','c':'E','d':'R','e':'T','f':'Y','g':'U','h':'I','i':'O','j':'P','k':'A','l':'S','m':'D','n':'F','o':'G','p':'H','q':'J','r':'K','s':'L','t':'Z','u':'X','v':'C','w':'V','x':'B','y':'N','z':'M'}\n",
    "\n",
    "for i in code:\n",
    "    s=sub(code[i],i,s)\n",
    "    \n",
    "print(s)"
   ]
  },
  {
   "cell_type": "code",
   "execution_count": 57,
   "id": "00a33f27",
   "metadata": {},
   "outputs": [
    {
     "data": {
      "text/plain": [
       "['E', 'braced by the Fla', 'e']"
      ]
     },
     "execution_count": 57,
     "metadata": {},
     "output_type": "execute_result"
    }
   ],
   "source": [
    "t=\"Embraced by the Flame\"\n",
    "\n",
    "split('m',t)"
   ]
  },
  {
   "cell_type": "code",
   "execution_count": 58,
   "id": "fbcddbd3",
   "metadata": {},
   "outputs": [
    {
     "data": {
      "text/plain": [
       "['Embraced', 'by', 'the', 'Flame']"
      ]
     },
     "execution_count": 58,
     "metadata": {},
     "output_type": "execute_result"
    }
   ],
   "source": [
    "split(' ',t)"
   ]
  },
  {
   "cell_type": "code",
   "execution_count": null,
   "id": "446ae3b6",
   "metadata": {},
   "outputs": [],
   "source": []
  }
 ],
 "metadata": {
  "kernelspec": {
   "display_name": "Python 3",
   "language": "python",
   "name": "python3"
  },
  "language_info": {
   "codemirror_mode": {
    "name": "ipython",
    "version": 3
   },
   "file_extension": ".py",
   "mimetype": "text/x-python",
   "name": "python",
   "nbconvert_exporter": "python",
   "pygments_lexer": "ipython3",
   "version": "3.8.8"
  }
 },
 "nbformat": 4,
 "nbformat_minor": 5
}
