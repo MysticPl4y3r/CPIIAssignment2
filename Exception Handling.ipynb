{
 "cells": [
  {
   "cell_type": "code",
   "execution_count": 4,
   "id": "407bc1eb",
   "metadata": {},
   "outputs": [
    {
     "name": "stdout",
     "output_type": "stream",
     "text": [
      "Enter a number :5\n",
      "Enter another number :0\n",
      "Can't divide by zero\n"
     ]
    }
   ],
   "source": [
    "try:    \n",
    "    a=int(input(\"Enter a number :\"))\n",
    "    b=int(input(\"Enter another number :\"))\n",
    "    print(\"Division :\",a/b)\n",
    "except ZeroDivisionError:\n",
    "    print(\"Can't divide by zero\")\n",
    "except ValueError:\n",
    "    print(\"It is not a number\")"
   ]
  },
  {
   "cell_type": "code",
   "execution_count": 5,
   "id": "5b1aeab3",
   "metadata": {},
   "outputs": [
    {
     "name": "stdout",
     "output_type": "stream",
     "text": [
      "Module not found or doesn't exist\n"
     ]
    }
   ],
   "source": [
    "try:\n",
    "    import MyModule\n",
    "except ImportError:\n",
    "    print(\"Module not found or doesn't exist\")"
   ]
  },
  {
   "cell_type": "code",
   "execution_count": 1,
   "id": "314231b1",
   "metadata": {},
   "outputs": [
    {
     "name": "stdout",
     "output_type": "stream",
     "text": [
      "5\n",
      "7\n",
      "2\n",
      "9\n",
      "End of list\n"
     ]
    }
   ],
   "source": [
    "a=[5,7,2,9]\n",
    "i=0\n",
    "while (1):\n",
    "    try:\n",
    "        print(a[i])\n",
    "        i+=1\n",
    "    except IndexError:\n",
    "        print(\"End of list\")\n",
    "        break"
   ]
  },
  {
   "cell_type": "code",
   "execution_count": 2,
   "id": "f8c80b90",
   "metadata": {},
   "outputs": [
    {
     "name": "stdout",
     "output_type": "stream",
     "text": [
      "File not found\n"
     ]
    }
   ],
   "source": [
    "try:\n",
    "    f=open(\"sample.txt\",'r')\n",
    "    print(f.readlines())\n",
    "    f.close()\n",
    "except IOError:\n",
    "    print(\"File not found\")"
   ]
  },
  {
   "cell_type": "code",
   "execution_count": 1,
   "id": "9f8cba03",
   "metadata": {},
   "outputs": [
    {
     "name": "stdout",
     "output_type": "stream",
     "text": [
      "No such record\n"
     ]
    }
   ],
   "source": [
    "d={'Cake':12,'Biscuit':50,'Tea':20}\n",
    "try:\n",
    "    print(d['Bread'])\n",
    "except KeyError:\n",
    "    print(\"No such record\")"
   ]
  },
  {
   "cell_type": "code",
   "execution_count": 12,
   "id": "c4c263ee",
   "metadata": {},
   "outputs": [
    {
     "name": "stdout",
     "output_type": "stream",
     "text": [
      "Enter username :Eris\n",
      "Enter password :Tychh\n",
      "Invalid password\n"
     ]
    }
   ],
   "source": [
    "#ID verification\n",
    "class MisMatch(Exception):\n",
    "    def __init__(self):\n",
    "        pass\n",
    "\n",
    "user=input(\"Enter username :\")\n",
    "password=\"Tyche\"\n",
    "\n",
    "try:\n",
    "    passw=input(\"Enter password :\")\n",
    "    if passw!=password:\n",
    "        raise MisMatch\n",
    "    print(\"Welcome\",user)\n",
    "    \n",
    "except MisMatch:\n",
    "    print(\"Invalid password\")"
   ]
  },
  {
   "cell_type": "code",
   "execution_count": null,
   "id": "0e4ac16b",
   "metadata": {},
   "outputs": [],
   "source": []
  }
 ],
 "metadata": {
  "kernelspec": {
   "display_name": "Python 3",
   "language": "python",
   "name": "python3"
  },
  "language_info": {
   "codemirror_mode": {
    "name": "ipython",
    "version": 3
   },
   "file_extension": ".py",
   "mimetype": "text/x-python",
   "name": "python",
   "nbconvert_exporter": "python",
   "pygments_lexer": "ipython3",
   "version": "3.8.8"
  }
 },
 "nbformat": 4,
 "nbformat_minor": 5
}
