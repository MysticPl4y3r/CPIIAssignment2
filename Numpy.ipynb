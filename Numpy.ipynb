{
 "cells": [
  {
   "cell_type": "code",
   "execution_count": 8,
   "id": "4da05690",
   "metadata": {},
   "outputs": [
    {
     "name": "stdout",
     "output_type": "stream",
     "text": [
      "[[0 0 0 0]\n",
      " [0 0 0 0]\n",
      " [0 0 0 0]\n",
      " [0 0 0 0]]\n",
      "[[1. 1. 1. 1.]\n",
      " [1. 1. 1. 1.]\n",
      " [1. 1. 1. 1.]\n",
      " [1. 1. 1. 1.]]\n"
     ]
    }
   ],
   "source": [
    "import numpy as np\n",
    "\n",
    "x=np.zeros((4,4),dtype=int) #initialize array\n",
    "\n",
    "print(x)\n",
    "\n",
    "y=np.ones((4,4),dtype=float)\n",
    "print(y)"
   ]
  },
  {
   "cell_type": "code",
   "execution_count": 7,
   "id": "d642f449",
   "metadata": {},
   "outputs": [
    {
     "name": "stdout",
     "output_type": "stream",
     "text": [
      "[('Senna', 2, 21.) ('Manish', 7, 29.)]\n",
      "SOrting according to name : [('Manish', 7, 29.) ('Senna', 2, 21.)]\n",
      "SOrting according to age : [('Senna', 2, 21.) ('Manish', 7, 29.)]\n"
     ]
    }
   ],
   "source": [
    "data=np.array([('Senna',2,21.0),('Manish',7,29.0)],\n",
    "              dtype=[('name',(np.str_,10)),('age',np.int32),('weight',np.float64)])\n",
    "\n",
    "print(data)\n",
    "\n",
    "sn=np.sort(data,order='name')\n",
    "print('SOrting according to name :',sn)\n",
    "\n",
    "sa=np.sort(data,order='age')\n",
    "print('SOrting according to age :',sa)"
   ]
  },
  {
   "cell_type": "code",
   "execution_count": 3,
   "id": "556acecc",
   "metadata": {},
   "outputs": [
    {
     "name": "stdout",
     "output_type": "stream",
     "text": [
      "[('name', '<U10'), ('age', '<i4'), ('weight', '<f8')]\n",
      "[('Thomas', 33, 61.) ('Thomas', 33, 61.) ('Thomas', 33, 61.)\n",
      " ('Thomas', 33, 61.)]\n"
     ]
    }
   ],
   "source": [
    "dt=np.ones(4,dtype={'names':('name','age','weight'),\n",
    "                     'formats':('U10','i4','f8')})\n",
    "print(data.dtype)\n",
    "\n",
    "dt['name']='Thomas'\n",
    "dt['age']='33'\n",
    "dt['weight']='61'\n",
    "print(dt)"
   ]
  },
  {
   "cell_type": "code",
   "execution_count": 5,
   "id": "9a1b3146",
   "metadata": {},
   "outputs": [],
   "source": [
    "row=5\n",
    "col=6\n",
    "table=np.ones(5,dtype={'names':('roll_no','name','class','section','course','marks'),\n",
    "                               'formats':('i4','U30','U2','U1','U50','f8')})\n",
    "roll=[1,2,3,4,5]\n",
    "name=['Ben','Bob','Charlie','Jake','Troy']\n",
    "clas=[12,12,11,11,11]\n",
    "sec=['A','A','C','B','C']\n",
    "crse=['Science','Commerce','Commerce','Science','Science']\n",
    "mks=[89.5,91.0,86.7,96.6,90.4]"
   ]
  },
  {
   "cell_type": "code",
   "execution_count": 6,
   "id": "0a1f8226",
   "metadata": {},
   "outputs": [
    {
     "name": "stdout",
     "output_type": "stream",
     "text": [
      "[(1, 'Ben', '12', 'A', 'Science', 89.5)\n",
      " (2, 'Bob', '12', 'A', 'Commerce', 91. )\n",
      " (3, 'Charlie', '11', 'C', 'Commerce', 86.7)\n",
      " (4, 'Jake', '11', 'B', 'Science', 96.6)\n",
      " (5, 'Troy', '11', 'C', 'Science', 90.4)]\n"
     ]
    }
   ],
   "source": [
    "table['roll_no']=roll\n",
    "table['name']=name\n",
    "table['class']=clas\n",
    "table['section']=sec\n",
    "table['course']=crse\n",
    "table['marks']=mks\n",
    "print(table)"
   ]
  },
  {
   "cell_type": "code",
   "execution_count": 16,
   "id": "e595e217",
   "metadata": {},
   "outputs": [],
   "source": [
    "a=np.array([1,3,4])\n",
    "b=np.array([2,2,7])\n",
    "c=a<b"
   ]
  },
  {
   "cell_type": "code",
   "execution_count": 17,
   "id": "e6c826c1",
   "metadata": {},
   "outputs": [
    {
     "name": "stdout",
     "output_type": "stream",
     "text": [
      "[ True False  True]\n"
     ]
    }
   ],
   "source": [
    "print(c)"
   ]
  },
  {
   "cell_type": "code",
   "execution_count": 18,
   "id": "2f6f4cb7",
   "metadata": {},
   "outputs": [
    {
     "name": "stdout",
     "output_type": "stream",
     "text": [
      "False\n"
     ]
    }
   ],
   "source": [
    "print(c.all()) #were all true?"
   ]
  },
  {
   "cell_type": "code",
   "execution_count": 19,
   "id": "d631c8bb",
   "metadata": {},
   "outputs": [
    {
     "name": "stdout",
     "output_type": "stream",
     "text": [
      "True\n"
     ]
    }
   ],
   "source": [
    "print(c.any()) #atleast one is true"
   ]
  },
  {
   "cell_type": "code",
   "execution_count": 23,
   "id": "b3a00eca",
   "metadata": {},
   "outputs": [
    {
     "name": "stdout",
     "output_type": "stream",
     "text": [
      "2\n"
     ]
    }
   ],
   "source": [
    "print(c.sum())"
   ]
  },
  {
   "cell_type": "code",
   "execution_count": 24,
   "id": "c4e177cc",
   "metadata": {},
   "outputs": [
    {
     "name": "stdout",
     "output_type": "stream",
     "text": [
      "[3 4]\n",
      "[0]\n",
      "[0 3 4]\n"
     ]
    }
   ],
   "source": [
    "c=a>2\n",
    "print(a[c]) #masking\n",
    "print(a[~c])\n",
    "a[~c]=0\n",
    "print(a)"
   ]
  },
  {
   "cell_type": "code",
   "execution_count": 21,
   "id": "02adc059",
   "metadata": {},
   "outputs": [
    {
     "name": "stdout",
     "output_type": "stream",
     "text": [
      "[ 6  6 12  1  9 15 14  4 17  7 15  0 16 10 11  2 13  8  2  9 19 10 14 11\n",
      " 16 14 11  1 17  9]\n",
      "[12  1  9]\n"
     ]
    }
   ],
   "source": [
    "n1=np.random.randint(0,20,30)\n",
    "print(n1)\n",
    "n2=np.array([n1[2],n1[5],n1[7]])\n",
    "idx=[2,3,4]\n",
    "print(n1[idx])"
   ]
  },
  {
   "cell_type": "code",
   "execution_count": 22,
   "id": "559d0e78",
   "metadata": {},
   "outputs": [
    {
     "name": "stdout",
     "output_type": "stream",
     "text": [
      "[[ 0  1  2  3]\n",
      " [ 4  5  6  7]\n",
      " [ 8  9 10 11]\n",
      " [12 13 14 15]]\n",
      "[ 0 11]\n"
     ]
    }
   ],
   "source": [
    "b=np.arange(16).reshape(4,4)\n",
    "print(b)\n",
    "row=np.array([0,2])\n",
    "col=np.array([0,3])\n",
    "print(b[row,col])"
   ]
  },
  {
   "cell_type": "code",
   "execution_count": 25,
   "id": "eab2b8d0",
   "metadata": {},
   "outputs": [],
   "source": [
    "arr=np.array([[66,88],[94,47]])"
   ]
  },
  {
   "cell_type": "code",
   "execution_count": 26,
   "id": "4041dacc",
   "metadata": {},
   "outputs": [
    {
     "data": {
      "text/plain": [
       "295"
      ]
     },
     "execution_count": 26,
     "metadata": {},
     "output_type": "execute_result"
    }
   ],
   "source": [
    "np.sum(arr)"
   ]
  },
  {
   "cell_type": "code",
   "execution_count": 28,
   "id": "3310505c",
   "metadata": {},
   "outputs": [
    {
     "data": {
      "text/plain": [
       "73.75"
      ]
     },
     "execution_count": 28,
     "metadata": {},
     "output_type": "execute_result"
    }
   ],
   "source": [
    "np.average(arr)"
   ]
  },
  {
   "cell_type": "code",
   "execution_count": 29,
   "id": "dab39e4b",
   "metadata": {},
   "outputs": [
    {
     "data": {
      "text/plain": [
       "94"
      ]
     },
     "execution_count": 29,
     "metadata": {},
     "output_type": "execute_result"
    }
   ],
   "source": [
    "np.max(arr)"
   ]
  },
  {
   "cell_type": "code",
   "execution_count": 30,
   "id": "96c6252e",
   "metadata": {},
   "outputs": [
    {
     "data": {
      "text/plain": [
       "47"
      ]
     },
     "execution_count": 30,
     "metadata": {},
     "output_type": "execute_result"
    }
   ],
   "source": [
    "np.min(arr)"
   ]
  },
  {
   "cell_type": "code",
   "execution_count": 31,
   "id": "b069cb1f",
   "metadata": {},
   "outputs": [
    {
     "data": {
      "text/plain": [
       "25659744"
      ]
     },
     "execution_count": 31,
     "metadata": {},
     "output_type": "execute_result"
    }
   ],
   "source": [
    "np.product(arr)"
   ]
  },
  {
   "cell_type": "code",
   "execution_count": null,
   "id": "65c27246",
   "metadata": {},
   "outputs": [],
   "source": []
  }
 ],
 "metadata": {
  "kernelspec": {
   "display_name": "Python 3",
   "language": "python",
   "name": "python3"
  },
  "language_info": {
   "codemirror_mode": {
    "name": "ipython",
    "version": 3
   },
   "file_extension": ".py",
   "mimetype": "text/x-python",
   "name": "python",
   "nbconvert_exporter": "python",
   "pygments_lexer": "ipython3",
   "version": "3.8.8"
  }
 },
 "nbformat": 4,
 "nbformat_minor": 5
}
