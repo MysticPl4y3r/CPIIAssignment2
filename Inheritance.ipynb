{
 "cells": [
  {
   "cell_type": "code",
   "execution_count": 9,
   "id": "fedd4f88",
   "metadata": {},
   "outputs": [],
   "source": [
    "class vehicle(object):\n",
    "    #protected\n",
    "    _name=None\n",
    "    _color=None\n",
    "    _speed=None\n",
    "    \n",
    "    #public\n",
    "    def __init__(self,name,color,tspeed):\n",
    "        self._name=name\n",
    "        self._color=color\n",
    "        self._speed=tspeed\n",
    "    def getspeed(self):\n",
    "        return self._speed\n",
    "\n",
    "class car(vehicle):\n",
    "    #private\n",
    "    __type=None\n",
    "    __owner=None\n",
    "    \n",
    "    #public\n",
    "    def __init__(self,name,color,tspeed,ownr):\n",
    "        vehicle.__init__(self,name,color,tspeed)\n",
    "        self.__type=\"Car\"\n",
    "        self.__owner=ownr\n",
    "        \n",
    "    def vehtype(self):\n",
    "        return self.__type\n",
    "    \n",
    "    def vehowns(self):\n",
    "        return self.__owner\n",
    "    \n",
    "class aeroplane(vehicle):\n",
    "    #private\n",
    "    __type=None\n",
    "    __owner=None\n",
    "    \n",
    "    #public\n",
    "    def __init__(self,name,color,tspeed,ownr):\n",
    "        vehicle.__init__(self,name,color,tspeed)\n",
    "        self.__type=\"Aircraft\"\n",
    "        self.__owner=ownr\n",
    "        \n",
    "    def vehtype(self):\n",
    "        return self.__type\n",
    "    \n",
    "    def vehowns(self):\n",
    "        return self.__owner\n",
    "    \n",
    "\n",
    "V1=car(\"Koenigsegg One:1\",\"white\",447,\"The Stig\")\n",
    "V2=car(\"McLaren Senna GTR\",\"blue\",340,\"Richard Miller\")\n",
    "\n",
    "V3=aeroplane(\"CFA-44 Nosferatu\",\"Strigon Livery\",2000,\"Lt. Pasternak\")\n",
    "V4=aeroplane(\"Boeing 737\",\"Red\",1800,\"SpiceJet\")"
   ]
  },
  {
   "cell_type": "code",
   "execution_count": 10,
   "id": "35c7029a",
   "metadata": {},
   "outputs": [
    {
     "name": "stdout",
     "output_type": "stream",
     "text": [
      "Speed of first car : 447km/h\n",
      "Speed of second car : 340km/h\n"
     ]
    }
   ],
   "source": [
    "print(\"Speed of first car :\",str(V1.getspeed())+\"km/h\")\n",
    "print(\"Speed of second car :\",str(V2.getspeed())+\"km/h\")"
   ]
  },
  {
   "cell_type": "code",
   "execution_count": 13,
   "id": "2a77534f",
   "metadata": {},
   "outputs": [
    {
     "name": "stdout",
     "output_type": "stream",
     "text": [
      "Car\n",
      "Aircraft\n"
     ]
    }
   ],
   "source": [
    "print(V1.vehtype())\n",
    "print(V4.vehtype())"
   ]
  },
  {
   "cell_type": "code",
   "execution_count": 15,
   "id": "6464bb49",
   "metadata": {},
   "outputs": [
    {
     "name": "stdout",
     "output_type": "stream",
     "text": [
      "Richard Miller\n",
      "Lt. Pasternak\n"
     ]
    }
   ],
   "source": [
    "print(V2.vehowns())\n",
    "print(V3.vehowns())"
   ]
  }
 ],
 "metadata": {
  "kernelspec": {
   "display_name": "Python 3",
   "language": "python",
   "name": "python3"
  },
  "language_info": {
   "codemirror_mode": {
    "name": "ipython",
    "version": 3
   },
   "file_extension": ".py",
   "mimetype": "text/x-python",
   "name": "python",
   "nbconvert_exporter": "python",
   "pygments_lexer": "ipython3",
   "version": "3.8.8"
  }
 },
 "nbformat": 4,
 "nbformat_minor": 5
}
